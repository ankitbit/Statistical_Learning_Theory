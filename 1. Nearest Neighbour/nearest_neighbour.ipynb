---
title: "knn for classification"
output:
  html_notebook:
  html_document:
    df_print: paged
---

```{r}
df.xy <- read.table(file="2clas2dim.csv",dec=".",sep=";", header = TRUE)
```

k-nn for classification 
```{r}
k <- 40
s <- 0
t <- 0
st <- c(s,t)
d_st_xy <- as.matrix( dist(rbind(st,df.xy[,1:2])) )[1,-1]
d_st_xy_k <- sort(d_st_xy,partial=k)[k]
N_st_k <- unname( which(d_st_xy <= d_st_xy_k) )
(pr_1_k_st <- sum(df.xy[N_st_k,3]=='ORANGE')/k)
```
```{r}
knn.class <- function(st, xy, group, k=3){
  d_st_xy <- as.matrix( dist(rbind(st,xy)) )[1,-1]
  d_st_xy_k <- sort(d_st_xy,partial=k)[k]
  N_st_k <- unname( which(d_st_xy <= d_st_xy_k) )
  return(hat_pr_1=sum(group[N_st_k]==1)/k)
}
```

```{r}
st <- c(0,0)
group <- as.numeric(df.xy[,3]=='ORANGE')
knn.class(st=st, xy=df.xy[,1:2], group=group, k=40)
```

```{r}
s<- t <- seq(-3.5,3.5,by=.1)
ns <- length(s)
nt <- length(t)
hat_p <- matrix(0,nrow=ns,ncol=nt)

k <- 50

for (i in 1:ns){
  for (j in 1:nt){
    hat_p[i,j] <- knn.class(st=c(s[i],t[j]), xy=df.xy[,1:2], group=group, k=k)
  }
}
```

```{r,fig.asp=1}
plot(df.xy[,1],df.xy[,2], col=4 - 2*group, asp=1)
contour(s, t, hat_p, levels=.5,lwd=2,add=TRUE)

glm.class <- glm(group ~ x + y,data=df.xy, family=binomial)
b012 <- coefficients(glm.class)
abline(a=-b012[1]/b012[3], b=-b012[2]/b012[3], lwd=2, col=6)
```


k-nn for regression

```{r}
library(MASS)
help(Boston)
data(Boston)
plot(Boston$lstat, Boston$medv)
```

Estimate the regression function of `Boston$medv` as a function of `Boston$lstat` using k-nn

```{}
# Write your code ...


``` 
