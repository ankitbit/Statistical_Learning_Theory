{
 "metadata": {
  "name": "knn"
 }, 
 "nbformat": 2, 
 "worksheets": [
  {
   "cells": [
    {
     "cell_type": "markdown", 
     "source": [
      "##Practicum 1: K-nearest neighbors", 
      "", 
      "Welcome to the first practicum session. Our goal today is to introduce some good practices for your ML projects. We'll", 
      "use $K$-nearest neighbors algorithm and an email spam dataset for practice. Our goals today are to:", 
      "", 
      "* Learn how to setup a project ", 
      "* Getting data from the UCI ML dataset repository ", 
      "* Review the *train/tune/test* partitioning of data ", 
      "* Implement $K$-nearest neighbors ", 
      "* Estimate generalization error of the new classifier ", 
      "", 
      "###Project layout", 
      "Most of our projects have a few components that we need to keep track of:", 
      "", 
      "1. Method code ", 
      "2. Problem (input) data ", 
      "3. Processed (intermediate) data ", 
      "4. Result (output) data ", 
      "5. Analysis doc: text, figures and code ", 
      "", 
      "It's a good idea to layout your project directory this way as well:", 
      "", 
      "<pre>", 
      " project_dir", 
      " |- pa01 (this is where source goes, but use a meaningful name so you can import nicely in python", 
      " |- input_data (just put data as you get it right here)", 
      " |- proc_data (this is where you put the data after you preprocess it for use)", 
      " |--|- train_data", 
      " |--|- test_data (it's a good idea to use physical separation if you can)", 
      " |- output_data (put data you need to write your analysis here, e.g., predicted labels)", 
      " |- doc (this is where you can put auxiliary files for your analysis)", 
      " |- analysis.ipynb (your notebook file used for documentation/analysis)", 
      "</pre>", 
      "", 
      "It's a good idea to have a shell script that does this automatically.", 
      "", 
      "###The spam dataset", 
      "", 
      "We'll use a dataset of email messages. The task in this case will be to identify spam messages. We'll download the data", 
      "from the UCI ML data repository: http://archive.ics.uci.edu/ml/datasets/Spambase. Download the data files and store in the", 
      "`input_data` directory. ", 
      "", 
      "Let's preprocess the data a bit to make it easier to use later on. And also do our train/tune/test partitioning now."
     ]
    }, 
    {
     "cell_type": "code", 
     "collapsed": true, 
     "input": [
      "import numpy as np", 
      "", 
      "# read spam dataset from file", 
      "spam_values = np.genfromtxt('input_data/spambase.data', delimiter=',')"
     ], 
     "language": "python", 
     "outputs": [], 
     "prompt_number": 1
    }, 
    {
     "cell_type": "code", 
     "collapsed": false, 
     "input": [
      "# let's take a look at some values", 
      "spam_values[:6,:4]"
     ], 
     "language": "python", 
     "outputs": [
      {
       "output_type": "pyout", 
       "prompt_number": 2, 
       "text": [
        "array([[ 0.  ,  0.64,  0.64,  0.  ],", 
        "       [ 0.21,  0.28,  0.5 ,  0.  ],", 
        "       [ 0.06,  0.  ,  0.71,  0.  ],", 
        "       [ 0.  ,  0.  ,  0.  ,  0.  ],", 
        "       [ 0.  ,  0.  ,  0.  ,  0.  ],", 
        "       [ 0.  ,  0.  ,  0.  ,  0.  ]])"
       ]
      }
     ], 
     "prompt_number": 2
    }, 
    {
     "cell_type": "code", 
     "collapsed": false, 
     "input": [
      "# and let's take a look at some labels", 
      "spam_values[:,-1]"
     ], 
     "language": "python", 
     "outputs": [
      {
       "output_type": "pyout", 
       "prompt_number": 3, 
       "text": [
        "array([ 1.,  1.,  1., ...,  0.,  0.,  0.])"
       ]
      }
     ], 
     "prompt_number": 3
    }, 
    {
     "cell_type": "code", 
     "collapsed": true, 
     "input": [
      "# now let's read the column names", 
      "fl = open('input_data/spambase.names', 'r')", 
      "lines = [line.strip() for line in fl]", 
      "fl.close()", 
      "", 
      "colnames = [line.partition(':')[0] for line in lines if not (len(line) == 0 or line[0] == '|' or line[0] == '1')]", 
      "colnames.append('spam')"
     ], 
     "language": "python", 
     "outputs": [], 
     "prompt_number": 4
    }, 
    {
     "cell_type": "markdown", 
     "source": [
      "It's good practice to keep column names close to the data, so we are going to use the `DataFrame` class provided by", 
      "the `pandas` library (installed by the Enthought distribution)."
     ]
    }, 
    {
     "cell_type": "code", 
     "collapsed": true, 
     "input": [
      "import pandas as pd", 
      "spam_df = pd.DataFrame(spam_values,columns=colnames)"
     ], 
     "language": "python", 
     "outputs": [], 
     "prompt_number": 5
    }, 
    {
     "cell_type": "code", 
     "collapsed": true, 
     "input": [
      "# finally make the spam labels +1 and -1 since we are going to use this in the knn classifier", 
      "spam_df['spam']=2*spam_df['spam']-1"
     ], 
     "language": "python", 
     "outputs": [], 
     "prompt_number": 6
    }, 
    {
     "cell_type": "code", 
     "collapsed": false, 
     "input": [
      "spam_df.ix[:3,-3:]"
     ], 
     "language": "python", 
     "outputs": [
      {
       "html": [
        "<div style=\"max-height:1000px;max-width:1500px;overflow:auto;\">", 
        "<table border=\"1\">", 
        "  <thead>", 
        "    <tr>", 
        "      <th></th>", 
        "      <th>capital_run_length_longest</th>", 
        "      <th>capital_run_length_total</th>", 
        "      <th>spam</th>", 
        "    </tr>", 
        "    </thead>", 
        "    <tbody>", 
        "    <tr>", 
        "      <td><strong>0</strong></td>", 
        "      <td>  61</td>", 
        "      <td>  278</td>", 
        "      <td> 1</td>", 
        "    </tr>", 
        "    <tr>", 
        "      <td><strong>1</strong></td>", 
        "      <td> 101</td>", 
        "      <td> 1028</td>", 
        "      <td> 1</td>", 
        "    </tr>", 
        "    <tr>", 
        "      <td><strong>2</strong></td>", 
        "      <td> 485</td>", 
        "      <td> 2259</td>", 
        "      <td> 1</td>", 
        "    </tr>", 
        "    <tr>", 
        "      <td><strong>3</strong></td>", 
        "      <td>  40</td>", 
        "      <td>  191</td>", 
        "      <td> 1</td>", 
        "    </tr>", 
        "  </tbody>", 
        "</table>", 
        "</div>"
       ], 
       "output_type": "pyout", 
       "prompt_number": 21, 
       "text": [
        "   capital_run_length_longest  capital_run_length_total  spam", 
        "0                          61                       278     1", 
        "1                         101                      1028     1", 
        "2                         485                      2259     1", 
        "3                          40                       191     1"
       ]
      }
     ], 
     "prompt_number": 21
    }, 
    {
     "cell_type": "markdown", 
     "source": [
      "Now let's partition into train, tune and test using the 70/10/20 rule"
     ]
    }, 
    {
     "cell_type": "code", 
     "collapsed": true, 
     "input": [
      "nsamples = spam_df.shape[0]", 
      "ntest = floor(.2 * nsamples)", 
      "ntune = floor(.1 * nsamples)", 
      "", 
      "# we want to make this reporducible so we seed the random number generator", 
      "np.random.seed(1)", 
      "all_indices = np.arange(nsamples)+1", 
      "np.random.shuffle(all_indices)", 
      "test_indices = all_indices[:ntest]", 
      "tune_indices = all_indices[ntest:(ntest+ntune)]", 
      "train_indices = all_indices[(ntest+ntune):]", 
      "", 
      "spam_train = spam_df.ix[train_indices,:]", 
      "spam_tune = spam_df.ix[tune_indices,:]", 
      "spam_test = spam_df.ix[test_indices,:]"
     ], 
     "language": "python", 
     "outputs": [], 
     "prompt_number": 8
    }, 
    {
     "cell_type": "markdown", 
     "source": [
      "And now save the data in the `proc_data` directories. We won't touch the original data any further."
     ]
    }, 
    {
     "cell_type": "code", 
     "collapsed": true, 
     "input": [
      "pd.save(spam_train, 'proc_data/training_data/spam_train.pdat')", 
      "pd.save(spam_tune, 'proc_data/training_data/spam_tune.pdat')", 
      "pd.save(spam_test, 'proc_data/testing_data/spam_test.pdat')"
     ], 
     "language": "python", 
     "outputs": [], 
     "prompt_number": 9
    }, 
    {
     "cell_type": "markdown", 
     "source": [
      "###Data exploration", 
      "", 
      "Let's take a look at the data a bit."
     ]
    }, 
    {
     "cell_type": "code", 
     "collapsed": false, 
     "input": [
      "# how many samples and features do we have", 
      "print len(spam_train.columns)", 
      "print spam_train.shape"
     ], 
     "language": "python", 
     "outputs": [
      {
       "output_type": "stream", 
       "stream": "stdout", 
       "text": [
        "58", 
        "(3221, 58)"
       ]
      }
     ], 
     "prompt_number": 10
    }, 
    {
     "cell_type": "code", 
     "collapsed": false, 
     "input": [
      "# how many samples do we have of each class", 
      "spam_train.groupby('spam').shape"
     ], 
     "language": "python", 
     "outputs": [
      {
       "output_type": "pyout", 
       "prompt_number": 17, 
       "text": [
        "spam", 
        "-1      (1948, 58)", 
        " 1      (1272, 58)"
       ]
      }
     ], 
     "prompt_number": 17
    }, 
    {
     "cell_type": "code", 
     "collapsed": false, 
     "input": [
      "# what is the mean frequency per label for a few features", 
      "grouped_dat= spam_train.groupby('spam').mean()"
     ], 
     "language": "python", 
     "outputs": [], 
     "prompt_number": 28
    }, 
    {
     "cell_type": "markdown", 
     "source": [
      "We can plot these frequencies."
     ]
    }, 
    {
     "cell_type": "code", 
     "collapsed": false, 
     "input": [
      "import pylab as plt", 
      "plt.figure()", 
      "grouped_dat.ix[:,-15:-3].T.plot(kind='bar')", 
      "plt.show()"
     ], 
     "language": "python", 
     "outputs": [
      {
       "output_type": "display_data", 
       "png": "[encoded data removed]"
      }
     ], 
     "prompt_number": 29
    }, 
    {
     "cell_type": "markdown", 
     "source": [
      "###$K$-nearest neighbors", 
      "", 
      "Now let's implement the $K$-nearest neighbor classifier. It's good practice to separate this kind of code from your analysis", 
      "notebook. So we'll implement it in file `knn.py` under the sourcecode folder we defined above. It is much more efficient to use", 
      "matrix computations whenever possible, and we'll do so here. To compute distance between a training sample $x$ and a testing ", 
      "sample $y$, we'll first compute their squared Euclidean distance:", 
      "", 
      "$$", 
      "\\| x - y \\|_2^2 = (x-y)^T(x-y) = x^Tx + y^Ty - 2 x^Ty.", 
      "$$", 
      "", 
      "So, given matrices of training samples $X$ and testing samples $Y$, we'll compute the product $XY^T$, compute the norm", 
      "$x^Tx$ for training samples and then iterate over testing samples to finally compute the squared distances. Notice that", 
      "we are using space O(ntraining_samples * ntesting_samples) but operations will be much faster than computing distances", 
      "between training/testing pairs one pair at a time.", 
      "", 
      "Here are the contents of the `knn.py` file:"
     ]
    }, 
    {
     "cell_type": "markdown", 
     "source": [
      "<pre><code>", 
      "import numpy as np", 
      "import pickle as pkl", 
      "", 
      "class KNN:", 
      "    def __init__(self, traindat, trainlabs, k=5):", 
      "        \"\"\"", 
      "        Creates an instance of class KNN. Stores training data", 
      "", 
      "        Arguments:", 
      "          traindat: pandas.DataFrame", 
      "          trainlabs: pandas.Series (+1/-1, currently unchecked)", 
      "", 
      "", 
      "        \"\"\"", 
      "        self.features = traindat.columns", 
      "        self.traindat = traindat.values", 
      "        self.trainlabs = trainlabs.values", 
      "        self.k = k", 
      "", 
      "    def __str__(self):", 
      "        return ('A %d-nn classifier on features ' % self.k) + str(self.features)", 
      "", 
      "", 
      "    def classify(self, testdat, k=None):", 
      "        \"\"\"", 
      "        Classify a set of samples", 
      "", 
      "        Arguments:", 
      "          testdat: pandas.DataFrame", 
      "          k: None, integer, or integer list of ascending k values", 
      "", 
      "        Returns:", 
      "          matrix of (+1/-1) labels (if k is a list)", 
      "          list of labels, if k is integer", 
      "", 
      "        \"\"\"", 
      "        testdat = testdat.values", 
      "        ntest_samples = testdat.shape[0]", 
      "", 
      "        if k is None:", 
      "            k = self.k", 
      "", 
      "        # check if k is an integer, if so wrap into list", 
      "        try:", 
      "            len(k)", 
      "        except TypeError:", 
      "            k = [k]", 
      "", 
      "        # compute cross-products of training and testing samples", 
      "        xy = self.traindat.dot(testdat.T)", 
      "", 
      "        # compute norms", 
      "        xx = np.sum(self.traindat * self.traindat, 1)", 
      "        yy = np.sum(testdat * testdat, 1)", 
      "", 
      "        # now iterate over testing samples", 
      "        out = np.empty((ntest_samples, len(k)))", 
      "        for i in range(ntest_samples):", 
      "            # compute distance to all training samples", 
      "            dists = np.sqrt(xx - 2*xy[:,i] + yy[i])", 
      "", 
      "            # find the indexes that sort the distances", 
      "            sorted_indexes = np.argsort(dists)", 
      "", 
      "            # now iterate over k-values to compute labels", 
      "            thesum = 0", 
      "            start = 0", 
      "            for j in range(len(k)):", 
      "                cur_k = k[j]", 
      "", 
      "                # add votes up to the current k value", 
      "                for l in range(start, cur_k):", 
      "                    thesum = thesum + self.trainlabs[sorted_indexes[l]]", 
      "", 
      "                # tally the votes", 
      "                out[i,j] = np.sign(thesum)", 
      "                start = cur_k", 
      "", 
      "        # massage the output if only one k was used", 
      "        if len(k) == 1:", 
      "            out = out.reshape(ntest_samples)", 
      "", 
      "        return out", 
      "", 
      "    def tune(self, tunedat, tunelabs, k=range(1,12,2)):", 
      "        \"\"\"", 
      "        Tune a k-nn classifier", 
      "", 
      "        Arguments:", 
      "          tunedat: pandas.DataFrame a tuning set", 
      "          tunelabs: pandas.Series labels for tuning set", 
      "          k: a list of increasing integer k values", 
      "", 
      "        Returns:", 
      "          Nothing", 
      "", 
      "        Side effect:", 
      "          sets self.k to the value of k that minimizes error on the tuning set", 
      "          sets self.tuning_k to the set of k values tested", 
      "          sets self.tuning_err to the tuning set error for each of the k values", 
      "", 
      "        \"\"\"", 
      "        tunelabs = tunelabs.values", 
      "        ntune_samples = tunedat.shape[0]", 
      "", 
      "        self.tuning_k = k", 
      "        self.tuning_err = np.empty(len(self.tuning_k))", 
      "        predlabs = self.classify(tunedat, self.tuning_k)", 
      "", 
      "", 
      "        for i in range(len(k)):", 
      "            self.tuning_err[i] = np.mean((tunelabs * predlabs[:,i]) < 0)", 
      "", 
      "        self.k = k[np.argmin(self.tuning_err)]", 
      "", 
      "    def dump(self, file):", 
      "        \"\"\"", 
      "        Store k-nn classifier object to file", 
      "", 
      "        \"\"\"", 
      "        try:", 
      "            fp = open(file,'wb')", 
      "            pkl.dump(self, fp)", 
      "            fp.close()", 
      "        except Exception as e:", 
      "            'Pickling failed for object ' + str(self) + ' on file ' + file + ' Exception: ' + e.message", 
      "", 
      "def load(file):", 
      "    \"\"\"", 
      "    Load k-nn classifier object from file", 
      "", 
      "    \"\"\"", 
      "    try:", 
      "        fp = open(file,'rb')", 
      "    except IOError as e:", 
      "        'Pickling knn failed error({0}): {1}'.format(e.errno, e.strerror)", 
      "        return None", 
      "", 
      "    try:", 
      "        obj = pkl.load(fp)", 
      "    except AttributeError as e:", 
      "        print ('Pickling knn failed for file ' + file + ' ' + str(e))", 
      "        fp.close()", 
      "        return None", 
      "    except pkl.UnpicklingError as e:", 
      "        print str(e)", 
      "        fp.close()", 
      "        return None", 
      "", 
      "    fp.close()", 
      "    return obj", 
      "</code></pre>"
     ]
    }, 
    {
     "cell_type": "markdown", 
     "source": [
      "####A note about using the IPython notebook. ", 
      "", 
      "You'll notice that we separated method code (e.g., file `knn.py`) from the notebook", 
      "executable code. The goal is to make that code usable in other contexts, and you should develop it as a python module. However,", 
      "below we will report on the performance of this classifer, and we want the notebook to reflect the code as closely as possible. So,", 
      "my suggestion as to how to do this. Once you have developed your method code and run your experiments to your satisfaction,", 
      "before you start the analysis of your results in the IPython notebook you can add code to the notebook (but not as executable code) using", 
      "the following steps:", 
      "", 
      "1. Insert a new code cell to the notebook at the point where you want to insert code", 
      "2. Type into the cell and execute the command `%loadpy somefile.py`. This will create a new cell with the code in `somefile.py`", 
      "3. Turn the new cell into a markdown cell (use the menu on the left panel, or the `ctl-M M` keyboard shortcut) ", 
      "4. Wrap the code in html tags `<pre><code> ... </code></code>`", 
      "", 
      "This is how I inserted the code above."
     ]
    }, 
    {
     "cell_type": "markdown", 
     "source": [
      "####Let's go on", 
      "", 
      "Now we can test this code on a toy dataset"
     ]
    }, 
    {
     "cell_type": "code", 
     "collapsed": false, 
     "input": [
      "develdat=pd.DataFrame(arange(30).reshape((6,5)))", 
      "devellabs=pd.Series([1,1,1,-1,-1,-1])", 
      "print develdat"
     ], 
     "language": "python", 
     "outputs": [
      {
       "output_type": "stream", 
       "stream": "stdout", 
       "text": [
        "    0   1   2   3   4", 
        "0   0   1   2   3   4", 
        "1   5   6   7   8   9", 
        "2  10  11  12  13  14", 
        "3  15  16  17  18  19", 
        "4  20  21  22  23  24", 
        "5  25  26  27  28  29"
       ]
      }
     ], 
     "prompt_number": 36
    }, 
    {
     "cell_type": "code", 
     "collapsed": true, 
     "input": [
      "from pa01.knn import KNN", 
      "develknn=KNN(develdat,devellabs,k=1)"
     ], 
     "language": "python", 
     "outputs": [], 
     "prompt_number": 32
    }, 
    {
     "cell_type": "code", 
     "collapsed": false, 
     "input": [
      "print 'Classifying with 1-NN'", 
      "print develknn.classify(develdat)", 
      "", 
      "print 'Classifying with 5-nn'", 
      "print develknn.classify(develdat,k=5)", 
      "", 
      "print 'Classifying with 1 and 3 NN'", 
      "print develknn.classify(develdat, k=[1,3])"
     ], 
     "language": "python", 
     "outputs": [
      {
       "output_type": "stream", 
       "stream": "stdout", 
       "text": [
        "Classifying with 1-NN", 
        "[ 1.  1.  1. -1. -1. -1.]", 
        "Classifying with 5-nn", 
        "[ 1.  1.  1. -1. -1. -1.]", 
        "Classifying with 1 and 3 NN", 
        "[[ 1.  1.]", 
        " [ 1.  1.]", 
        " [ 1.  1.]", 
        " [-1. -1.]", 
        " [-1. -1.]", 
        " [-1. -1.]]"
       ]
      }
     ], 
     "prompt_number": 33
    }, 
    {
     "cell_type": "code", 
     "collapsed": false, 
     "input": [
      "# test the tuning function", 
      "develknn.tune(develdat.ix[0:2,],devellabs[:3],k=np.arange(1,5,2))", 
      "", 
      "print 'The k values tested'", 
      "print develknn.tuning_k", 
      "", 
      "print 'error on the tuning set, for these values'", 
      "print develknn.tuning_err"
     ], 
     "language": "python", 
     "outputs": [
      {
       "output_type": "stream", 
       "stream": "stdout", 
       "text": [
        "The k values tested", 
        "[1 3]", 
        "error on the tuning set, for these values", 
        "[ 0.  0.]"
       ]
      }
     ], 
     "prompt_number": 34
    }, 
    {
     "cell_type": "markdown", 
     "source": [
      "###Applying to spam data", 
      "", 
      "Now we are ready to apply the k-nn classifier to the spam data. The idea is to initialize the object, then tune and finally get an estimate", 
      "of generalization error using the test data. It is better to run this outside the IPython notebook and store results", 
      "in the output data directory. I've added a `main.py` file to the *project* directory with the following code:"
     ]
    }, 
    {
     "cell_type": "markdown", 
     "source": [
      "<pre><code>", 
      "import numpy as np", 
      "import pandas as pd", 
      "from pa01.knn import KNN, load", 
      "", 
      "", 
      "def main():", 
      "    print 'Loading data'", 
      "    spam_train = pd.load('proc_data/training_data/spam_train.pdat')", 
      "    spam_tune = pd.load('proc_data/training_data/spam_tune.pdat')", 
      "", 
      "    print 'Building classifier'", 
      "    spam_knn = KNN(spam_train.ix[:,:-1], spam_train['spam'])", 
      "", 
      "    print 'Tuning classifier k is 1 to 41 by 2'", 
      "    spam_knn.tune(spam_tune.ix[:,:-1], spam_tune['spam'], k=range(1,42,2))", 
      "", 
      "    print 'Loading test data'", 
      "    spam_test = pd.load('proc_data/testing_data/spam_test.pdat')", 
      "", 
      "    print 'Classifying test data'", 
      "    predlabs = spam_knn.classify(spam_test.ix[:,:-1])", 
      "", 
      "    print 'Saving output objects'", 
      "    spam_knn.dump('output_data/spam_knn.pyobj')", 
      "", 
      "    # store the predicted labels for the test set in text file", 
      "    np.savetxt('output_data/predlabs.txt', predlabs)", 
      "", 
      "    obj=load('output_data/spam_knn.pyobj')", 
      "    print obj", 
      "", 
      "if __name__ == '__main__':", 
      "    main()", 
      "</code></pre>"
     ]
    }, 
    {
     "cell_type": "markdown", 
     "source": [
      "###Analyzing results", 
      "", 
      "Now that we have run our experiment (train/tune/test the k-nn classifier on the spam data), we are ready to analyze the result. Let's answer some questions:", 
      "", 
      "What was the k chosen by the tuning method?"
     ]
    }, 
    {
     "cell_type": "code", 
     "collapsed": false, 
     "input": [
      "# first of all we need to load the classifier", 
      "from pa01.knn import load", 
      "spam_knn = load('output_data/spam_knn.pyobj')", 
      "", 
      "print 'The k chosen on the tuning set was %d' % spam_knn.k"
     ], 
     "language": "python", 
     "outputs": [
      {
       "output_type": "stream", 
       "stream": "stdout", 
       "text": [
        "The k chosen on the tuning set was 1"
       ]
      }
     ], 
     "prompt_number": 37
    }, 
    {
     "cell_type": "markdown", 
     "source": [
      "What was the effect of $k$ on generalization error?"
     ]
    }, 
    {
     "cell_type": "code", 
     "collapsed": false, 
     "input": [
      "# let's plot it", 
      "plt.figure()", 
      "plt.plot(spam_knn.tuning_k, spam_knn.tuning_err)", 
      "plt.title(\"Tuning error vs. k\")", 
      "plt.show()"
     ], 
     "language": "python", 
     "outputs": [
      {
       "output_type": "display_data", 
       "png": "[encoded data removed]"
      }
     ], 
     "prompt_number": 38
    }, 
    {
     "cell_type": "markdown", 
     "source": [
      "So, the smallest generalization error was 0.18 and was achieved by k=1 as we saw before.", 
      "", 
      "What is the error on the test set?"
     ]
    }, 
    {
     "cell_type": "code", 
     "collapsed": false, 
     "input": [
      "# first let's load the test set", 
      "spam_test = pd.load('proc_data/testing_data/spam_test.pdat')", 
      "test_labels = spam_test['spam'].values", 
      "", 
      "# now let's read the predicted labels which we stored in main.py", 
      "pred_labels = np.genfromtxt('output_data/predlabs.txt')", 
      "", 
      "# and compute error rate", 
      "test_error = np.mean ( (pred_labels * test_labels) < 0)", 
      "", 
      "print 'Error on the test set for knn was %0.2f' % test_error", 
      "                        "
     ], 
     "language": "python", 
     "outputs": [
      {
       "output_type": "stream", 
       "stream": "stdout", 
       "text": [
        "Error on the test set for knn was 0.18"
       ]
      }
     ], 
     "prompt_number": 39
    }, 
    {
     "cell_type": "markdown", 
     "source": [
      "Well, there we go. Not very good, let's see if you can improve in your programming project."
     ]
    }
   ]
  }
 ]
}